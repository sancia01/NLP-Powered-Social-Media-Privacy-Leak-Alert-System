{
  "nbformat": 4,
  "nbformat_minor": 0,
  "metadata": {
    "colab": {
      "provenance": [],
      "gpuType": "T4"
    },
    "kernelspec": {
      "name": "python3",
      "display_name": "Python 3"
    },
    "language_info": {
      "name": "python"
    },
    "accelerator": "GPU"
  },
  "cells": [
    {
      "cell_type": "code",
      "execution_count": null,
      "metadata": {
        "id": "Ez4oeIOAMLJS"
      },
      "outputs": [],
      "source": [
        "import pandas as pd\n",
        "import nltk\n",
        "from nltk.corpus import stopwords\n",
        "from nltk.tokenize import word_tokenize\n",
        "from sklearn.model_selection import train_test_split\n",
        "from sklearn.feature_extraction.text import TfidfVectorizer\n",
        "from sklearn.linear_model import LogisticRegression\n",
        "from sklearn.pipeline import Pipeline  # Correct import here\n",
        "from sklearn.metrics import classification_report, confusion_matrix, accuracy_score #add accuracy_score to the import statement\n",
        "\n",
        "# Load the dataset\n",
        "df = pd.read_csv('/content/synthetic_privacy_leak_data_adjusted.csv')\n"
      ]
    },
    {
      "cell_type": "code",
      "source": [
        "\n",
        "# Preprocess the text data\n",
        "nltk.download('punkt')\n",
        "nltk.download('stopwords')\n",
        "\n",
        "def preprocess_text(text):\n",
        "    tokens = word_tokenize(text.lower())\n",
        "    tokens = [word for word in tokens if word.isalnum()]  # Remove punctuation\n",
        "    stop_words = set(stopwords.words('english'))\n",
        "    tokens = [word for word in tokens if word not in stop_words]\n",
        "    return ' '.join(tokens)\n",
        "\n",
        "df['Processed Content'] = df['Post Content'].apply(preprocess_text)\n",
        "\n",
        "# Split dataset into features and labels\n",
        "X = df['Processed Content']\n",
        "y = df['Privacy Leak Label']\n",
        "X_train, X_test, y_train, y_test = train_test_split(X, y, test_size=0.3, random_state=42)\n",
        "\n",
        "# Create a pipeline with TF-IDF and Logistic Regression\n",
        "pipeline = Pipeline([\n",
        "    ('tfidf', TfidfVectorizer()),\n",
        "    ('clf', LogisticRegression())\n",
        "])\n",
        "\n",
        "# Train the model\n",
        "pipeline.fit(X_train, y_train)\n",
        "\n",
        "# Make predictions\n",
        "y_pred = pipeline.predict(X_test)\n",
        "\n",
        "# Evaluate the model\n",
        "print(\"Confusion Matrix:\")\n",
        "print(confusion_matrix(y_test, y_pred))\n",
        "print(\"\\nClassification Report:\")\n",
        "print(classification_report(y_test, y_pred))"
      ],
      "metadata": {
        "colab": {
          "base_uri": "https://localhost:8080/"
        },
        "id": "V6L55YdVC0-p",
        "outputId": "8db6ac3e-6ff8-40f8-b9d0-3f673e470e14"
      },
      "execution_count": null,
      "outputs": [
        {
          "output_type": "stream",
          "name": "stderr",
          "text": [
            "[nltk_data] Downloading package punkt to /root/nltk_data...\n",
            "[nltk_data]   Unzipping tokenizers/punkt.zip.\n",
            "[nltk_data] Downloading package stopwords to /root/nltk_data...\n",
            "[nltk_data]   Unzipping corpora/stopwords.zip.\n"
          ]
        },
        {
          "output_type": "stream",
          "name": "stdout",
          "text": [
            "Confusion Matrix:\n",
            "[[ 1451   127]\n",
            " [    0 13422]]\n",
            "\n",
            "Classification Report:\n",
            "              precision    recall  f1-score   support\n",
            "\n",
            "           0       1.00      0.92      0.96      1578\n",
            "           1       0.99      1.00      1.00     13422\n",
            "\n",
            "    accuracy                           0.99     15000\n",
            "   macro avg       1.00      0.96      0.98     15000\n",
            "weighted avg       0.99      0.99      0.99     15000\n",
            "\n"
          ]
        }
      ]
    },
    {
      "cell_type": "code",
      "source": [
        "from transformers import pipeline as hf_pipeline  # Import correctly\n",
        "from sklearn.metrics import classification_report, confusion_matrix\n",
        "\n",
        "# Load a pre-trained model for text classification\n",
        "classifier = hf_pipeline('text-classification', model='bert-base-uncased', tokenizer='bert-base-uncased')\n",
        "\n",
        "# Function to predict privacy leaks\n",
        "def predict_leak(texts):\n",
        "    predictions = classifier(texts)\n",
        "    return [1 if pred['label'] == 'LABEL_1' else 0 for pred in predictions]\n",
        "\n",
        "# Make predictions on the test set\n",
        "y_pred_bert = predict_leak(X_test.tolist())\n",
        "\n",
        "# Evaluate the predictions\n",
        "print(\"Confusion Matrix (BERT):\")\n",
        "print(confusion_matrix(y_test, y_pred_bert))\n",
        "print(\"\\nClassification Report (BERT):\")\n",
        "print(classification_report(y_test, y_pred_bert))\n",
        "\n",
        "# Calculate and print the accuracy\n",
        "accuracy = accuracy_score(y_test, y_pred_bert)\n",
        "print(f\"\\nAccuracy (BERT): {accuracy:.4f}\")"
      ],
      "metadata": {
        "colab": {
          "base_uri": "https://localhost:8080/"
        },
        "id": "4AAvyq-zMaKI",
        "outputId": "f33dcfb9-ec93-4088-9210-19c8b3c2cfa5"
      },
      "execution_count": null,
      "outputs": [
        {
          "output_type": "stream",
          "name": "stderr",
          "text": [
            "Some weights of BertForSequenceClassification were not initialized from the model checkpoint at bert-base-uncased and are newly initialized: ['classifier.bias', 'classifier.weight']\n",
            "You should probably TRAIN this model on a down-stream task to be able to use it for predictions and inference.\n",
            "/usr/local/lib/python3.10/dist-packages/transformers/tokenization_utils_base.py:1601: FutureWarning: `clean_up_tokenization_spaces` was not set. It will be set to `True` by default. This behavior will be depracted in transformers v4.45, and will be then set to `False` by default. For more details check this issue: https://github.com/huggingface/transformers/issues/31884\n",
            "  warnings.warn(\n",
            "Hardware accelerator e.g. GPU is available in the environment, but no `device` argument is passed to the `Pipeline` object. Model will be on CPU.\n"
          ]
        },
        {
          "output_type": "stream",
          "name": "stdout",
          "text": [
            "Confusion Matrix (BERT):\n",
            "[[    1  1577]\n",
            " [    2 13420]]\n",
            "\n",
            "Classification Report (BERT):\n",
            "              precision    recall  f1-score   support\n",
            "\n",
            "           0       0.33      0.00      0.00      1578\n",
            "           1       0.89      1.00      0.94     13422\n",
            "\n",
            "    accuracy                           0.89     15000\n",
            "   macro avg       0.61      0.50      0.47     15000\n",
            "weighted avg       0.84      0.89      0.85     15000\n",
            "\n",
            "\n",
            "Accuracy (BERT): 0.8947\n"
          ]
        }
      ]
    },
    {
      "cell_type": "code",
      "source": [
        "# Alert mechanism based on BERT predictions\n",
        "def alert_mechanism(post_content, threshold=0.5):\n",
        "    prediction = predict_leak([post_content])[0]\n",
        "\n",
        "    if prediction == 1:\n",
        "        print(f\"ALERT: Privacy leak detected in the post - '{post_content}'\")\n",
        "    else:\n",
        "        print(f\"No privacy leak detected in the post - '{post_content}'\")\n",
        "\n",
        "# Simulating real-time post monitoring\n",
        "def monitor_posts(posts):\n",
        "    import time # import the time module\n",
        "    for post in posts:\n",
        "        alert_mechanism(post)\n",
        "        time.sleep(1)  # Simulate real-time monitoring with a short delay\n",
        "\n",
        "# Example usage: List of social media posts to monitor\n",
        "posts_to_monitor = [\n",
        "    \"Just shared my bank account number on Twitter!\",\n",
        "    \"Had a great time at the beach with friends!\",\n",
        "    \"Here's my SSN: 123-45-6789.\",\n",
        "    \"Happy to announce my new job at Tech Corp!\"\n",
        "]\n",
        "\n",
        "# Start monitoring posts and alert if any privacy leaks are detected\n",
        "monitor_posts(posts_to_monitor)"
      ],
      "metadata": {
        "colab": {
          "base_uri": "https://localhost:8080/"
        },
        "id": "F4oQChob3nYw",
        "outputId": "b463e3db-007d-4107-b230-cd0d69f113cd"
      },
      "execution_count": null,
      "outputs": [
        {
          "output_type": "stream",
          "name": "stdout",
          "text": [
            "ALERT: Privacy leak detected in the post - 'Just shared my bank account number on Twitter!'\n",
            "ALERT: Privacy leak detected in the post - 'Had a great time at the beach with friends!'\n",
            "ALERT: Privacy leak detected in the post - 'Here's my SSN: 123-45-6789.'\n",
            "ALERT: Privacy leak detected in the post - 'Happy to announce my new job at Tech Corp!'\n"
          ]
        }
      ]
    },
    {
      "cell_type": "code",
      "source": [],
      "metadata": {
        "id": "olbQklOv3qlO"
      },
      "execution_count": null,
      "outputs": []
    }
  ]
}